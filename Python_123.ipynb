{
 "cells": [
  {
   "cell_type": "code",
   "execution_count": 1,
   "id": "f0d5feea-253f-45d6-93a3-4f55fe417482",
   "metadata": {
    "tags": []
   },
   "outputs": [
    {
     "name": "stdout",
     "output_type": "stream",
     "text": [
      "\n",
      "  / \\__\n",
      " (    @\\___\n",
      "  /         O\n",
      " /   (_____/\n",
      "/_____/   U\n",
      "\n"
     ]
    }
   ],
   "source": [
    "# Python code to print an ASCII art of a dog\n",
    "\n",
    "print('''\n",
    "  / \\\\__\n",
    " (    @\\\\___\n",
    "  /         O\n",
    " /   (_____/\n",
    "/_____/   U\n",
    "''')\n",
    "\n",
    "\n"
   ]
  },
  {
   "cell_type": "code",
   "execution_count": null,
   "id": "6ea24fc4-78fb-4aec-be02-418514dd583d",
   "metadata": {},
   "outputs": [],
   "source": []
  },
  {
   "cell_type": "code",
   "execution_count": null,
   "id": "1da5d526-d408-41f0-8ba0-2679d6f65b96",
   "metadata": {},
   "outputs": [],
   "source": []
  }
 ],
 "metadata": {
  "kernelspec": {
   "display_name": "Python 3",
   "language": "python",
   "name": "python3"
  },
  "language_info": {
   "codemirror_mode": {
    "name": "ipython",
    "version": 3
   },
   "file_extension": ".py",
   "mimetype": "text/x-python",
   "name": "python",
   "nbconvert_exporter": "python",
   "pygments_lexer": "ipython3",
   "version": "3.11.6"
  }
 },
 "nbformat": 4,
 "nbformat_minor": 5
}
